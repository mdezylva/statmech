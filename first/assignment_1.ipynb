{
 "cells": [
  {
   "cell_type": "code",
   "execution_count": 5,
   "metadata": {},
   "outputs": [],
   "source": [
    "from IPython.display import HTML\n",
    "HTML('''<script>\n",
    "code_show=true; \n",
    "function code_toggle() {\n",
    " if (code_show){\n",
    " $('div.input').hide();\n",
    " } else {\n",
    " $('div.input').show();\n",
    " }\n",
    " code_show = !code_show\n",
    "} \n",
    "$( document ).ready(code_toggle);\n",
    "</script>\n",
    "The raw code for this IPython notebook is by default hidden for easier reading.\n",
    "To toggle on/off the raw code, click <a href=\"javascript:code_toggle()\">here</a>.''')\n",
    "%matplotlib inline\n",
    "%config InlineBackend.print_figure_kwargs = {'bbox_inches':'tight'}\n",
    "plt.rcParams['figure.dpi'] = 100"
   ]
  },
  {
   "cell_type": "markdown",
   "metadata": {},
   "source": [
    "# Assignment 1 - PHYC90010\n",
    "\n",
    "The following idealised model [B. Drossel and F. Schwabl, Physical Review Letters 69, 1629 (1992)] aims to describe the sporadic ignition and sometimes uncontrolled spread of forest  fires.  It  has  become  an  archetype  of  a  particular  class  of  self-organised  critical systems.  There  is  an  ongoing  debate  about  how  faithfully  it  captures  the  spread  of  real forest fires, but its utility as a toy model is undeniable.\n",
    "\n",
    "To construct the model consider a two-dimensional square lattice with periodic boundary conditions.  Each  site  on  the  lattice  occupies  one  of  three  states  at  any  instant:  black (empty),  green  (unburnt  trees),  or  red  (burning  trees).  Initially,  it  contains  a  random mixture of empty and green sites. At each time step, the lattice is updated according to the following rules:\n",
    "\n",
    "* A red site becomes black \n",
    "* A green site becomes red if one of its neighbours is red, otherwise it becomes red with probability $f$ \n",
    "* A black site becomes green with probability $p$\n"
   ]
  },
  {
   "cell_type": "code",
   "execution_count": null,
   "metadata": {},
   "outputs": [],
   "source": []
  },
  {
   "cell_type": "markdown",
   "metadata": {},
   "source": [
    "#### Question 1\n",
    "- The first rule essentially means that since a site that is on fire, will, after some appropriate time step, have consumed all the fuel in the region, thereby moving from red to black.\n",
    "- The second rule tells us that sites with trees will catch fire if they are nearby another site that is also on fire, but it will only catch fire in isolation based on some probability\n",
    "- The third rule states that the sites which are empty will eventually regenerate"
   ]
  },
  {
   "cell_type": "markdown",
   "metadata": {},
   "source": [
    "#### Question 2\n",
    "The lighting of fires randomly acts as a driver for the system, whereby the system randomly samples the probability of a given cell igniting"
   ]
  },
  {
   "cell_type": "markdown",
   "metadata": {},
   "source": [
    "#### Question 3\n",
    "Included in mdezylva_assignment_1.py is the following code, which assigns black cells a value of 0, green cells a value of 1, and burning cells a value of 100. This allows us to take advantage of a 2D convolve method to calculate if any nearby cells are on fire. \n",
    " \n",
    "It then iterates over the array, and checks to see if the data contained in a given cell is red, green, or black. \n",
    "\n",
    "* If it is red, it converts it to black. \n",
    "* If is it green, it checks to see if there is a neighbor that was on fire in the previous step of the simulation. If there was, it converts the green cell to red. If there is no neighbour on fire, it calculates the probability of fire spontaneously occuring\n",
    "* If the site is black, it calculates the probability of it randomly regenerating\n",
    "\n"
   ]
  },
  {
   "cell_type": "markdown",
   "metadata": {},
   "source": [
    "#### Question 4"
   ]
  },
  {
   "cell_type": "code",
   "execution_count": 3,
   "metadata": {},
   "outputs": [
    {
     "data": {
      "image/png": "[encoded data removed]",
      "text/plain": [
       "<Figure size 1080x1080 with 1 Axes>"
      ]
     },
     "metadata": {},
     "output_type": "display_data"
    }
   ],
   "source": [
    "import numpy as np\n",
    "import scipy as sp\n",
    "import pandas as pd\n",
    "import random as rand\n",
    "import matplotlib.pyplot as plt\n",
    "import matplotlib.colors as colors\n",
    "import matplotlib.animation as animation\n",
    "import scipy.signal\n",
    "\n",
    "\n",
    "class fire_sim_world:\n",
    "    def __init__(self, dim, f, p):\n",
    "        self.data = np.random.randint(0, 2, dim)\n",
    "        self.p = p\n",
    "        self.f = f\n",
    "\n",
    "    def __repr__(self):\n",
    "        return f'World({self.data!r})\\n with probabilities ({self.p!r},{self.f!r})'\n",
    "\n",
    "    def calc_s(self, runtime):\n",
    "        '''\n",
    "        Simulates behaviour for a given runtime, and gives the S-value (total number of pixels on fire)\n",
    "        '''\n",
    "        number_on_fire = 0\n",
    "        for i in range(runtime):\n",
    "            self.simple_update()\n",
    "        for i in range(len(self.data)):\n",
    "            for j in range(len(self.data[i])):\n",
    "                if self.data[i][j] > 99:\n",
    "                    number_on_fire += 1\n",
    "\n",
    "        return(number_on_fire)\n",
    "\n",
    "    def simple_update(self):\n",
    "        '''\n",
    "        Utilises a simple method for updating the world based on conditions specified in question\n",
    "        '''\n",
    "\n",
    "        'Convolution creates a check matrix, with Periodic Boundary Conditions which we can check for behaviour '\n",
    "        check = sp.signal.convolve2d(self.data, np.array(\n",
    "            [[0., 1., 0.], [1., 0., 1.], [0., 1., 0.]]), mode='same', boundary='wrap')\n",
    "\n",
    "        for i in range(len(self.data)):\n",
    "            for j in range(len(self.data[i])):\n",
    "\n",
    "                'Behaviour for Red Cells'\n",
    "                if self.data[i][j] > 99:\n",
    "                    self.data[i][j] = 0\n",
    "\n",
    "                'Behaviour for Green Cells'\n",
    "                if self.data[i][j] == 1:\n",
    "                    if check[i][j] > 5:\n",
    "                        self.data[i][j] = 100\n",
    "                    if rand.random() < self.f:\n",
    "                        self.data[i][j] = 100\n",
    "\n",
    "                'Behaviour for Black Cells'\n",
    "                if self.data[i][j] == 0:\n",
    "                    if rand.random() < self.p:\n",
    "                        self.data[i][j] = 1\n",
    "\n",
    "\n",
    "def complex_update(self):\n",
    "    '''\n",
    "    Utilises a simple method for updating the world based on conditions specified in question\n",
    "    '''\n",
    "\n",
    "    'Convolution creates a check matrix, with Periodic Boundary Conditions which we can check for behaviour '\n",
    "    check = sp.signal.convolve2d(self.data, np.array(\n",
    "        [[0., 1., 0.], [1., 0., 1.], [0., 1., 0.]]), mode='same', boundary='wrap')\n",
    "\n",
    "    for i in range(len(self.data)):\n",
    "        for j in range(len(self.data[i])):\n",
    "\n",
    "            'Behaviour for Red Cells'\n",
    "            if self.data[i][j] > 99:\n",
    "                self.data[i][j] = 0\n",
    "\n",
    "            'Behaviour for Green Cells'\n",
    "            if self.data[i][j] == 1:\n",
    "                if check[i][j] > 5:\n",
    "                    self.data[i][j] = 100\n",
    "                if rand.random() < self.f:\n",
    "                    self.data[i][j] = 100\n",
    "\n",
    "            'Behaviour for Black Cells'\n",
    "            if self.data[i][j] == 0:\n",
    "                if check[i][j] < 5 and check[i][j] > 0:\n",
    "                    if rand.random() < (self.p - 0.2):\n",
    "                        self.data[i][j] = 1\n",
    "                if rand.random() < self.p:\n",
    "                    self.data[i][j] = 1\n",
    "\n",
    "\n",
    "def animate(i):\n",
    "    sim.simple_update()\n",
    "    ax.imshow(sim.data, interpolation='nearest', cmap=cmap, norm=norm)\n",
    "\n",
    "\n",
    "def generate_pdf(sim, sim_runs):\n",
    "    s_values = np.ndarray(sim_runs)\n",
    "    for i in range(sim_runs):\n",
    "        s_values[i]= sim.generate_pdf(sim_runs)\n",
    "    return(s_values)\n",
    "\n",
    "def calc_wait_time(sim):\n",
    "    index_1 = np.random.randint(0,len(sim.data))\n",
    "    index_2 = np.random.randint(0,len(sim.data[0]))\n",
    "    count = 0\n",
    "    while sim.data[index_1][index_2] < 99:\n",
    "        count += 1\n",
    "        sim.simple_update()\n",
    "    return(count)\n",
    "\n",
    "if __name__ == '__main__':\n",
    "    f_prob = float(\n",
    "        input(\"Enter probability of a Green Site catching fire (f) : \"))\n",
    "    p_prob = float(\n",
    "        input(\"Enter probability of a black site regenerating (p) : \"))\n",
    "    size = int(input(\"Enter dimension (NxN) of simulation: \"))\n",
    "\n",
    "    sim = fire_sim_world([size, size], f_prob, p_prob)\n",
    "\n",
    "    cmap = colors.ListedColormap(['black', 'green', 'red'])\n",
    "    bounds = [0, 0.8, 5, 105]\n",
    "    norm = colors.BoundaryNorm(bounds, cmap.N)\n",
    "    speed = 100\n",
    "\n",
    "    fig, ax = plt.subplots(figsize=(15, 15))\n",
    "    ani = animation.FuncAnimation(fig, animate,\n",
    "                                  frames=100, interval=speed,\n",
    "                                  save_count=50)\n",
    "    plt.draw()\n",
    "    plt.show()\n"
   ]
  },
  {
   "cell_type": "markdown",
   "metadata": {},
   "source": [
    "#### Question 5 \n",
    "Included are some calculations for the cases\n",
    "* $f = 0$, $p = 0.5$ \n",
    "* $f = 0.0001$ , $p = 0.005$\n",
    "* $f = 0.005$ , $p = 0.0001$\n",
    "\n"
   ]
  },
  {
   "cell_type": "markdown",
   "metadata": {},
   "source": [
    "#### Question 6\n",
    "* What we see is that for the first case, over a long enough period of time, the fire will burn the entire forest away, and since there is no regeneration, it will be a simulation filled with entirely black sites\n",
    "* For the second case, we see a reasonably broad spread of values for $s$, centred at about 300 sites. This suggests that the probability of regeneration is high enough that there will be a fire burning in approximately $3\\%$ of the cells. This suggests that there is a level of self-criticality to the system, whereby it will always be regrowing enough that a fire can always start\n",
    "* For the last case, the pdf seems to be very centred on 0, with only a few cells ever exhibiting a fire after a reasonably long period. This is likely due to the fact that the probability of ignition is comparatively low when compared to the regeneration probability, and so the fires burn through the forest very quickly before dying out\n"
   ]
  },
  {
   "cell_type": "markdown",
   "metadata": {},
   "source": [
    "#### Question 7 "
   ]
  },
  {
   "cell_type": "markdown",
   "metadata": {},
   "source": [
    "#### Question 8\n",
    "\n",
    "Since the differential equations are reliant on a sort of 'inflow' and 'outflow' it is relatively easy to derive them by considering the rates of both. In the case of $x_g$, we see that:\n",
    "* The inflow is proportional to $ (1 - x_g - x_r )  $, since this number represents the number of black cells, and it's proportionality constant will be given by $p$ \n",
    "* The outflow is proportional to the sum of the $f x_g$ since a green cell has $f$ probability of turning red, and $4 x_g x_r$, since this number represents the probability that a green cell and a red cell will be next to each other directly (the factor of 4 accounting for the 4 possible adjacencies) \n",
    "\n",
    "Therefore, the differential equation describing $x_g$ is given by \n",
    "$$ \\frac{d x_g}{dt} &= - f x_g - 4 x_g x_r + p(1 - x_g - x_r)$$\n",
    "\n",
    "Similarly, the differential equation describing $x_r$ will have the same terms that were considered outflow for $x_g$ as inflow, and will lose $x_r$ cells per time-step. \n",
    "\n",
    "Therefore the differential equation for $x_r$ will be given by \n",
    "$$ \\frac{d x_r}{dt} &= - x_r + f x_g + 4 x_g x_r $$  "
   ]
  },
  {
   "cell_type": "markdown",
   "metadata": {},
   "source": [
    "#### Question 9 "
   ]
  },
  {
   "cell_type": "markdown",
   "metadata": {},
   "source": [
    "#### Question 10 \n",
    "Three possible ways to make this model more realistic are\n",
    "* Add in some probability of fire jumping a number of steps away, or operating on cells that are diagonally adjacent\n",
    "* Increasing the chance of regeneration if a given cell is next to one that is already green\n",
    "* Not making neighbor cells cause immediate ignition, since it takes time for a cell to catch fire"
   ]
  },
  {
   "cell_type": "code",
   "execution_count": null,
   "metadata": {},
   "outputs": [],
   "source": []
  },
  {
   "cell_type": "code",
   "execution_count": null,
   "metadata": {},
   "outputs": [],
   "source": []
  },
  {
   "cell_type": "code",
   "execution_count": null,
   "metadata": {},
   "outputs": [],
   "source": []
  }
 ],
 "metadata": {
  "kernelspec": {
   "display_name": "Python 3",
   "language": "python",
   "name": "python3"
  },
  "language_info": {
   "codemirror_mode": {
    "name": "ipython",
    "version": 3
   },
   "file_extension": ".py",
   "mimetype": "text/x-python",
   "name": "python",
   "nbconvert_exporter": "python",
   "pygments_lexer": "ipython3",
   "version": "3.6.7"
  }
 },
 "nbformat": 4,
 "nbformat_minor": 2
}
